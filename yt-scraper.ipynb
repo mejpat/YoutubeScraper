{
 "cells": [
  {
   "cell_type": "markdown",
   "metadata": {},
   "source": [
    "# YOUTUBE SCRAPER PROJECT  \r\n",
    "##  This python script extracts data from the youtube description of each video in a playlist.  \r\n",
    "## The limitation of this script is that **this script is specific to the description format of the videos in the playlist that I used**.\r\n",
    "#### Credits to the [야미보이 Yummyboy Channel](https://www.youtube.com/channel/UCiiV8stcewhoCNyiErr7GtA)."
   ]
  },
  {
   "cell_type": "code",
   "execution_count": 5,
   "metadata": {},
   "outputs": [],
   "source": [
    "from pyshorturl import Googl, GooglError\r\n",
    "from googleapiclient.discovery import build\r\n",
    "import os\r\n",
    "import csv\r\n",
    "import pandas as pd\r\n",
    "import urlexpander\r\n",
    "from time import sleep\r\n",
    "\r\n",
    "DEVELOPER_KEY = 'YOUR_DEV_KEY' #change the dev key\r\n",
    "youtube = build('youtube', 'v3', developerKey=DEVELOPER_KEY)\r\n",
    "service = Googl(api_key=DEVELOPER_KEY)\r\n",
    "\r\n",
    "playlist_id = \"PL5rVz0V9BCBG_mioInHjb23t8a3EHLYlA\"\r\n",
    "\r\n",
    "vid_id = []\r\n",
    "video_ids = []\r\n",
    "vidURL = []\r\n",
    "pl_titles = []"
   ]
  },
  {
   "cell_type": "markdown",
   "metadata": {},
   "source": [
    "## The following section extracts the english title of the playlist from the <code>youtube API</code> result and uses it to name the local folder."
   ]
  },
  {
   "cell_type": "code",
   "execution_count": 10,
   "metadata": {},
   "outputs": [],
   "source": [
    "#------------------Get english title for folder name------------------------\r\n",
    "\r\n",
    "results1 = youtube.playlists().list(part='snippet', maxResults=50, id=playlist_id)\r\n",
    "res1 = results1.execute()\r\n",
    "\r\n",
    "for plres1 in res1.get('items', []):\r\n",
    "    pl_title = plres1['snippet']['localized']['title']\r\n",
    "    pl_title = pl_title.split(\"/\")\r\n",
    "    en_title = pl_title[1].strip()\r\n",
    "    pl_titles.append(en_title)\r\n",
    "\r\n",
    "pl_titles\r\n",
    "\r\n",
    "#------------------Make folder of playlist------------------------\r\n",
    "# change username and folder in path\r\n",
    "path = 'C:\\\\Users\\\\YOUR_NAME\\\\Documents\\\\YOUR_FOLDER'+ '\\\\{}'.format(en_title)\r\n",
    "#os.mkdir(path)"
   ]
  },
  {
   "cell_type": "markdown",
   "metadata": {},
   "source": [
    "## The following  section extracts the ID of each video in the playlist."
   ]
  },
  {
   "cell_type": "code",
   "execution_count": 8,
   "metadata": {},
   "outputs": [
    {
     "name": "stdout",
     "output_type": "stream",
     "text": [
      "['Rj8Qe76WJWs', 'jSgL-IB7I2U', 'xXxKhCz-7T0', 'xuy7y8fZTJY', 'Zt_ed3qDmHw', 'lgbUTliFtrE', 's8hFYWvZzdo', 'VChhdFZcWyA']\n"
     ]
    },
    {
     "data": {
      "text/plain": [
       "8"
      ]
     },
     "execution_count": 8,
     "metadata": {},
     "output_type": "execute_result"
    }
   ],
   "source": [
    "#-------------- Extracting IDs of each vid from playlist item --------------\r\n",
    "\r\n",
    "results = youtube.playlistItems().list(part='snippet', maxResults=50, playlistId=playlist_id)\r\n",
    "response = results.execute()\r\n",
    "\r\n",
    "for response in response.get('items', []):\r\n",
    "    vidids = response['snippet']['resourceId']['videoId']\r\n",
    "    if vidids in video_ids:\r\n",
    "        continue\r\n",
    "    vidURL.append(\"https://youtube.com/watch?v=\" + vidids)\r\n",
    "    video_ids.append(vidids)\r\n",
    "\r\n",
    "print(video_ids)\r\n",
    "len(video_ids)"
   ]
  },
  {
   "cell_type": "markdown",
   "metadata": {},
   "source": [
    "## The main <code>for loop</code> in the following section uses the video IDs from the previous section to make three lists.  \r\n",
    "\r\n",
    "## The lists are:\r\n",
    "1. Food and price\r\n",
    "2. Google map URL\r\n",
    "2. Location"
   ]
  },
  {
   "cell_type": "code",
   "execution_count": 9,
   "metadata": {},
   "outputs": [
    {
     "name": "stdout",
     "output_type": "stream",
     "text": [
      "trial 0 : -1 CONNECTION SUCCESSFUL\n",
      "trial 0 : -1 CONNECTION SUCCESSFUL\n",
      "trial 0 : -1 CONNECTION SUCCESSFUL\n",
      "trial 0 : -1 CONNECTION SUCCESSFUL\n",
      "trial 0 : -1 CONNECTION SUCCESSFUL\n",
      "trial 0 : -1 CONNECTION SUCCESSFUL\n",
      "trial 0 : -1 CONNECTION SUCCESSFUL\n",
      "trial 0 : -1 CONNECTION SUCCESSFUL\n"
     ]
    }
   ],
   "source": [
    "#------------- Extracting description, map URL, food, and price ------------------\r\n",
    "\r\n",
    "parts = ['localizations', 'id']\r\n",
    "vidres = youtube.videos().list(id=video_ids, part=parts).execute()\r\n",
    "\r\n",
    "food_price = []\r\n",
    "food = []\r\n",
    "loc = []\r\n",
    "priceKRW = []\r\n",
    "priceUSD = []\r\n",
    "\r\n",
    "location = []\r\n",
    "deets = []\r\n",
    "coords = []\r\n",
    "Lat = []\r\n",
    "Lon = []\r\n",
    "index = 0\r\n",
    "inc = 0\r\n",
    "\r\n",
    "vidURL = []\r\n",
    "mapURL = []\r\n",
    "mapLOC = []\r\n",
    "listmap_url = []\r\n",
    "\r\n",
    "class URLExpanderError(Exception):\r\n",
    "    pass\r\n",
    "\r\n",
    "i = 0\r\n",
    "for res in vidres.get('items', []):\r\n",
    "    description = res['localizations']['en']['description']\r\n",
    "    startLOC = description.find(\"Location: \") + len(\"Location: \")\r\n",
    "    #endLOC = description.find(\"\\n\", startLOC)\r\n",
    "    endLOC = startLOC + 37\r\n",
    "    map_url = description[startLOC:endLOC]\r\n",
    "\r\n",
    "    startMAP_index = startLOC + len(map_url) + 2\r\n",
    "    map_loc = description[startMAP_index:]\r\n",
    "    curr_URL = \"https://youtube.com/watch?v=\" + res['id']\r\n",
    "    end = 0\r\n",
    "    listmap_url.append(map_url)\r\n",
    "\r\n",
    "    #------------------------- Add coords to deets -------------------\r\n",
    "\r\n",
    "    for x in range(0, 4):  # try 4 times\r\n",
    "        try:\r\n",
    "            expandedMapURL = urlexpander.expand(map_url)\r\n",
    "            error = '__CONNECTIONPOOL_ERROR_'\r\n",
    "            check = expandedMapURL.find(error)\r\n",
    "            if check > 0:\r\n",
    "                raise URLExpanderError\r\n",
    "            print(\"trial\", x, \":\" , check, \"CONNECTION SUCCESSFUL\")\r\n",
    "            str_error = None\r\n",
    "\r\n",
    "        except URLExpanderError as str_error:\r\n",
    "            print(\"Connection Error: Trial\", x+1 , str_error)\r\n",
    "            pass\r\n",
    "\r\n",
    "        else:\r\n",
    "            break\r\n",
    "\r\n",
    "    start = expandedMapURL.find(\"/@\")\r\n",
    "    mid = expandedMapURL.find(\",\",start)\r\n",
    "    end = expandedMapURL.find(\",\", mid+1)\r\n",
    "    crds = expandedMapURL[start+2:end]\r\n",
    "    split_coords = crds.split(\",\")\r\n",
    "    #print(split_coords, '\\n')\r\n",
    "    i+=1\r\n",
    "\r\n",
    "    lat = split_coords[0]\r\n",
    "    lon = split_coords[1]\r\n",
    "    Lat.append(lat)\r\n",
    "    Lon.append(lon)\r\n",
    "\r\n",
    "    mapURL.append(map_url)\r\n",
    "    mapLOC.append(map_loc)\r\n",
    "    vidURL.append(curr_URL)\r\n",
    "\r\n",
    "    start = description.find(\"formation-\") \r\n",
    "    if start == -1:\r\n",
    "        start = description.find(\"formation -\") + len(\"formation -\")\r\n",
    "    else:\r\n",
    "        start = start + len(\"formation-\")\r\n",
    "    end = description.find(\"\\n\",start+2)\r\n",
    "    fpname = []\r\n",
    "    fpname.append(description[start + 2:end]) #first item\r\n",
    "    lastitemloc = startLOC - len(\"location: \") - 2\r\n",
    "    \r\n",
    "    index = 0\r\n",
    "    while end != lastitemloc: #if more than one items, these are the next items\r\n",
    "        index += 1\r\n",
    "        start = end + 1\r\n",
    "        end = description.find(\"\\n\",start+1)\r\n",
    "        fpname.append(description[start:end])\r\n",
    "        \r\n",
    "        # for restos with multiple food items, this code block adds space/blank in lieu of the video URL, map URL, and map location to avoid repeating in list\r\n",
    "        if curr_URL in vidURL:\r\n",
    "            vidURL.append(\"\")\r\n",
    "        if map_url in mapURL:\r\n",
    "            mapURL.append(\"\")\r\n",
    "        if map_loc in mapLOC:\r\n",
    "            mapLOC.append(\"\")\r\n",
    "        if end == lastitemloc:\r\n",
    "            break\r\n",
    "        \r\n",
    "    food_price.append(fpname)\r\n",
    "\r\n",
    "    inc += 1\r\n",
    "    prev_URL = curr_URL"
   ]
  },
  {
   "cell_type": "markdown",
   "metadata": {},
   "source": [
    "## From the list of food and price in the prev section, this section splits the list and make the following lists:\r\n",
    "1. Food\r\n",
    "2. Price in KRW\r\n",
    "3. Price in USD."
   ]
  },
  {
   "cell_type": "code",
   "execution_count": 59,
   "metadata": {},
   "outputs": [
    {
     "name": "stdout",
     "output_type": "stream",
     "text": [
      "FOOD\n",
      "['Margherita Pizza', 'Stellar Bulgogi Pizza', 'meat Tteokbokki', 'Assorted fried food', 'green tea ice cream strawberry crepe', 'nutella strawberry banana crepe', 'pork belly ', '1 box of sun shaped bread ', 'korean wine rice cake (50 pieces)', 'Cream Cheese Garlic Bread', 'Yangju Egg Fried Rice ']\n",
      "Prices in KRW\n",
      "['KRW 16,800', 'KRW 20,800', 'KRW 18,000', 'KRW 7,500', 'KRW 6,500', 'KRW 5,000', 'Samgyeopsal', 'KRW 15,000', 'KRW 14,000', 'KRW 4,800', 'KRW 9,500']\n",
      "Prices in USD\n",
      "['USD 15.0', 'USD 18.6', 'USD 16.0', 'USD 6.7', 'USD 5.8', 'USD 4.5', '300g', 'USD 13.4', 'USD 12.5', 'USD 4.2', 'USD 8.5']\n"
     ]
    }
   ],
   "source": [
    "# ------------------- GETTING LIST OF FOOD, KRW PRICE, AND USD PRICE ---------------------\r\n",
    "food = []\r\n",
    "priceKRW = []\r\n",
    "priceUSD = []\r\n",
    "fplen = len(food_price)\r\n",
    "\r\n",
    "for x in range(fplen):\r\n",
    "    f_plen = len(food_price[x])\r\n",
    "    priceKRWlist = []\r\n",
    "    priceUSDlist = []\r\n",
    "    for y in range(f_plen):\r\n",
    "        fp = food_price[x][y].split(\":\")\r\n",
    "        food.append(fp[0])\r\n",
    "        #------- split USD and KRW prices ----------\r\n",
    "        price = fp[1].split(\"(\")\r\n",
    "        priceKRW.append(price[0].strip())\r\n",
    "        priceUSD.append(price[1].rstrip(\")\"))\r\n",
    "    #priceKRW.append(priceKRWlist)\r\n",
    "    #priceUSD.append(priceUSDlist)\r\n",
    "    deets.append([])\r\n",
    "    deets[x].append(food[x])\r\n",
    "\r\n",
    "print(\"List of food:\")\r\n",
    "print(food) \r\n",
    "print(\"List of prices in KRW:\")\r\n",
    "print(priceKRW)\r\n",
    "print(\"List of prices in USD:\")\r\n",
    "print(priceUSD)"
   ]
  },
  {
   "cell_type": "markdown",
   "metadata": {},
   "source": [
    "## Finally, the section below assembles all the lists of data and create a single .csv file with all the details."
   ]
  },
  {
   "cell_type": "code",
   "execution_count": 55,
   "metadata": {},
   "outputs": [],
   "source": [
    "#------------------------------------ Writing details CSV ------------------------------------\r\n",
    "\r\n",
    "dict = {'Food' : food,  'Price (KRW)' : priceKRW, 'Price (USD)' : priceUSD, 'Location' : mapLOC, 'Map URL' : mapURL, 'Video URL' : vidURL}\r\n",
    "details = pd.DataFrame(dict)\r\n",
    "details.to_csv(os.path.join(path,r'{}.csv'.format(en_title)))\r\n"
   ]
  }
 ],
 "metadata": {
  "interpreter": {
   "hash": "2270ed32fea7db640744371534934432182e139f3a75a4bcf9d6d1872f8d9838"
  },
  "kernelspec": {
   "display_name": "Python 3.8.10 64-bit ('DataScience': conda)",
   "name": "python3"
  },
  "language_info": {
   "name": "python",
   "version": ""
  },
  "orig_nbformat": 4
 },
 "nbformat": 4,
 "nbformat_minor": 2
}
